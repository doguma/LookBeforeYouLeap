{
 "cells": [
  {
   "cell_type": "markdown",
   "metadata": {
    "id": "2ws3c9OS89Cn"
   },
   "source": [
    "\n",
    "\n",
    "---\n",
    "\n",
    "\n",
    "# **ML prediction**\n",
    "#### ***Look before you Leap : Leveraging Predictive Models to Improve Automotive Safety and Travel Time***\n",
    "\n",
    "\n",
    "\n",
    "---\n",
    "\n",
    "\n",
    "\n",
    "**Final Project**\n",
    "CSCI 35300/79502  \n",
    "##### Hannah Do\n",
    "\n",
    "\n",
    "\n",
    "\n",
    "\n"
   ]
  },
  {
   "cell_type": "markdown",
   "metadata": {},
   "source": [
    "---\n",
    "\n",
    "### Comparison on datasets with addition of twitter features \n",
    "- importing different files for cross validation and evaluation"
   ]
  },
  {
   "cell_type": "code",
   "execution_count": 10,
   "metadata": {
    "colab": {
     "base_uri": "https://localhost:8080/"
    },
    "executionInfo": {
     "elapsed": 1373,
     "status": "ok",
     "timestamp": 1607165536120,
     "user": {
      "displayName": "Hannah Do",
      "photoUrl": "",
      "userId": "09169567944837111458"
     },
     "user_tz": -540
    },
    "id": "cFyz34eXc8gy",
    "outputId": "46810445-a3f3-450f-a612-74338826634f"
   },
   "outputs": [],
   "source": [
    "# Import all the libraries\n",
    "\n",
    "import pandas as pd\n",
    "import numpy as np\n",
    "import matplotlib.pyplot as plt\n",
    "%matplotlib inline\n",
    "\n",
    "import seaborn as sns\n",
    "import csv\n",
    "import datetime, string, re\n",
    "import sys, os, warnings\n",
    "\n",
    "from numpy import sqrt, argmax\n",
    "from collections import Counter\n",
    "\n",
    "from scipy import stats\n",
    "from sklearn.neighbors import KNeighborsClassifier\n",
    "from sklearn.tree import DecisionTreeClassifier\n",
    "from sklearn.ensemble import RandomForestClassifier\n",
    "from sklearn.linear_model import LogisticRegression\n",
    "from sklearn.svm import SVC\n",
    "from sklearn.naive_bayes import GaussianNB\n",
    "from xgboost import XGBClassifier\n",
    "\n",
    "from imblearn.over_sampling import RandomOverSampler\n",
    "from imblearn.ensemble import BalancedRandomForestClassifier\n",
    "\n",
    "from sklearn.model_selection import train_test_split\n",
    "from sklearn.model_selection import GridSearchCV\n",
    "from sklearn.model_selection import cross_val_score, cross_val_predict\n",
    "from sklearn.feature_selection import SelectFromModel\n",
    "from sklearn.metrics import classification_report\n",
    "from sklearn.metrics import confusion_matrix\n",
    "from sklearn.metrics import accuracy_score\n",
    "from sklearn.metrics import roc_curve, auc, roc_auc_score, precision_recall_curve, confusion_matrix, precision_score, recall_score, f1_score\n",
    "from sklearn.metrics import make_scorer\n"
   ]
  },
  {
   "cell_type": "markdown",
   "metadata": {},
   "source": [
    "\n",
    "**Different ML models**"
   ]
  },
  {
   "cell_type": "code",
   "execution_count": 2,
   "metadata": {},
   "outputs": [],
   "source": [
    "# Create a function with many machine learning models \n",
    "\n",
    "def models_cross(X,y):\n",
    "\n",
    "    list1 = []\n",
    "\n",
    "    # kNN\n",
    "    knn = KNeighborsClassifier()\n",
    "    knn.fit(X_train, y_train)\n",
    "    y_pred=knn.predict(X_test)\n",
    "\n",
    "    knn_acc=accuracy_score(y_test, y_pred)\n",
    "    list1.append(knn_acc)\n",
    "    print('kNN accuracy score : ', knn_acc)\n",
    "    \n",
    "\n",
    "   # SVC (poly kernel)\n",
    "    svc = SVC(random_state = 4, C= 50, gamma= 'scale', kernel= 'poly')\n",
    "    svc_scores = cross_val_score(svc, X, y, cv=8,n_jobs=-1)\n",
    "#     print('SVC Cross-Validation Accuracy Scores', svc_scores)\n",
    "    svc_scores_series = pd.Series(svc_scores)\n",
    "    list1.append(svc_scores_series.mean())\n",
    "    print('SVC accuracy score : ', svc_scores_series.mean())\n",
    "\n",
    "\n",
    "    # GaussianNB\n",
    "    gauss = GaussianNB()\n",
    "    gauss_scores = cross_val_score(gauss, X, y, cv=8, n_jobs=-1)\n",
    "#     print('GaussianNB Cross-Validation Accuracy Scores', gauss_scores)\n",
    "    gauss_scores_series = pd.Series(gauss_scores)\n",
    "    list1.append(gauss_scores_series.mean())\n",
    "    print('Gaussian NB accuracy score : ', gauss_scores_series.mean())\n",
    "\n",
    "            \n",
    "    # Decision Tree\n",
    "    tree = DecisionTreeClassifier(criterion = 'gini', max_depth='None', max_features='None', min_samples_leaf=2, min_samples_split=3)\n",
    "    tree_scores = cross_val_score(tree, X, y, cv=8,n_jobs=-1)\n",
    "#     print('Decision Tree Cross-Validation Accuracy Scores', tree_scores)\n",
    "    tree_scores_series = pd.Series(tree_scores)\n",
    "    list1.append(tree_scores_series.mean())\n",
    "    print('Decision Tree accuracy score : ', tree_scores_series.mean())\n",
    "\n",
    "\n",
    "    # Random Forest Classifier \n",
    "    forest = RandomForestClassifier(n_estimators=1000, max_features = 'sqrt')\n",
    "    forest_scores = cross_val_score(forest, X, y, cv=8,n_jobs=-1)\n",
    "#     print('Random forest Cross-Validation Accuracy Scores', forest_scores)\n",
    "    forest_scores_series = pd.Series(forest_scores)\n",
    "    list1.append(forest_scores_series.mean())\n",
    "    print('Random Forest accuracy score : ', forest_scores_series.mean())\n",
    "   \n",
    "\n",
    "    # Logistic Regression\n",
    "    # multi_class='ovr', c=0.1, penalty='l2', solver='newton-cg'\n",
    "    log = LogisticRegression()\n",
    "    log_scores = cross_val_score(log, X, y, cv=8,n_jobs=-1)\n",
    "#     print('Logistic regression Cross-Validation Accuracy Scores', log_scores)\n",
    "    log_scores_series = pd.Series(log_scores)\n",
    "    list1.append(log_scores_series.mean())\n",
    "    print('Logistic Regression accuracy score : ', log_scores_series.mean())\n",
    "\n",
    "    \n",
    "    # XGBoost Classifier\n",
    "    xg = XGBClassifier(objective='binary:logistic', learning_rate=0.5, max_depth=5)\n",
    "    xg_scores = cross_val_score(xg, X, y, cv=8,n_jobs=-1)\n",
    "#     print('XGBoost Cross-Validation Accuracy Scores', xg_scores)\n",
    "    xg_scores_series = pd.Series(xg_scores)\n",
    "    list1.append(xg_scores_series.mean())\n",
    "    print('XGBoost accuracy score : ', xg_scores_series.mean())\n",
    "\n",
    "    return list1"
   ]
  },
  {
   "cell_type": "code",
   "execution_count": 4,
   "metadata": {
    "id": "rjPC3qZKc8gz",
    "outputId": "50f28bad-4862-4acb-b58d-40d4b36a6815",
    "scrolled": true
   },
   "outputs": [],
   "source": [
    "final_table = pd.DataFrame()\n",
    "\n",
    "files = ['processed_1mo_smote', 'processed_1mo_realistic', 'processed_3mo_smote', 'processed_3mo_realistic', 'processed_6mo_realistic_short', 'processed_6mo_smote_short']\n",
    "# processed_1mo_smote\n",
    "# processed_1mo_realistic\n",
    "# processed_3mo_smote\n",
    "# ...\n",
    "\n",
    "i = 1\n",
    "    \n",
    "for f in files:\n",
    "\n",
    "    print('\\n' + f)\n",
    "    temp = pd.read_csv('merged/' + f + '.csv', sep=',')\n",
    "\n",
    "    temp = temp.drop(columns = ['Unnamed: 0'], axis=1)\n",
    "    # drop NaN column with index values\n",
    "\n",
    "    list1 = pd.DataFrame()\n",
    "\n",
    "    y = temp['target']\n",
    "    X = temp.drop('target', axis=1)\n",
    "\n",
    "    X_train, X_test, y_train, y_test = train_test_split(X, y, test_size=0.2, random_state=1)\n",
    "\n",
    "    list1 = models_cross(X,y)\n",
    "\n",
    "    final_table['twitter '+ f + str(i)] = list1\n",
    "    \n",
    "    \n",
    "    print('\\n' + f + ' accident record')\n",
    "\n",
    "    list2 = pd.DataFrame()\n",
    "\n",
    "    y = temp['target']\n",
    "    X = temp.drop('target', axis=1)\n",
    "\n",
    "    X_train, X_test, y_train, y_test = train_test_split(X, y, test_size=0.2, random_state=1)\n",
    "\n",
    "    list2 = models_cross(X,y)\n",
    "\n",
    "    final_table['accident '+ f + str(i)] = list2\n",
    "\n",
    "    i = i+1\n",
    "    \n",
    "final_table\n"
   ]
  },
  {
   "cell_type": "code",
   "execution_count": 6,
   "metadata": {
    "id": "jyyYHwslc8g0",
    "outputId": "a5adf8a5-91ff-4556-cf9d-a18aa782f75b",
    "scrolled": true
   },
   "outputs": [],
   "source": [
    "ml_models = ['KNN', 'SVC', 'Gaussian NB', 'Decision Tree', 'Random Forest', 'Logistic Regression', 'XGBoost']\n",
    "# 'SVC-rbf', \n",
    "\n",
    "final_table.index = ml_models"
   ]
  },
  {
   "cell_type": "markdown",
   "metadata": {},
   "source": [
    "### Feature Importance - Random Forest"
   ]
  },
  {
   "cell_type": "code",
   "execution_count": 40,
   "metadata": {},
   "outputs": [],
   "source": [
    "temp = pd.read_csv('02032022/smote_1mo.csv', sep=',')\n",
    "\n",
    "temp = temp.drop(columns = ['Unnamed: 0'], axis=1)\n",
    "# drop NaN column with index values\n",
    "\n",
    "list0 = pd.DataFrame()\n",
    "\n",
    "y = temp['target']\n",
    "X = temp.drop('target', axis=1)    \n",
    "\n",
    "X_train, X_test, y_train, y_test = train_test_split(X, y, test_size=0.2, random_state=1)"
   ]
  },
  {
   "cell_type": "code",
   "execution_count": 39,
   "metadata": {},
   "outputs": [
    {
     "name": "stderr",
     "output_type": "stream",
     "text": [
      "No handles with labels found to put in legend.\n"
     ]
    },
    {
     "data": {
      "image/png": "[encoded data removed]",
      "text/plain": [
       "<Figure size 432x288 with 1 Axes>"
      ]
     },
     "metadata": {},
     "output_type": "display_data"
    }
   ],
   "source": [
    "forest = RandomForestClassifier(n_estimators=10, criterion='entropy', random_state=0)\n",
    "forest.fit(X_train, y_train)\n",
    "\n",
    "feature_imp = pd.Series(forest.feature_importances_,index=X_train.columns).sort_values(ascending=False)\n",
    "\n",
    "k=10\n",
    "sns.barplot(x=feature_imp[:10], y=feature_imp.index[:k])\n",
    "plt.xlabel('Feature Importance Score')\n",
    "plt.ylabel('Features')\n",
    "plt.title(\"Visualizing Important Features\")\n",
    "plt.legend()\n",
    "plt.show()"
   ]
  },
  {
   "cell_type": "markdown",
   "metadata": {},
   "source": [
    "### Evaluation on Random Forest Model\n",
    "1. Dataset with Accidents, Smote method, and boosting Negative Instances - 6 months"
   ]
  },
  {
   "cell_type": "code",
   "execution_count": 12,
   "metadata": {},
   "outputs": [],
   "source": [
    "temp = pd.read_csv('02032022/negboost_1mo.csv', sep=',')\n",
    "\n",
    "temp = temp.drop(columns = ['Unnamed: 0'], axis=1)\n",
    "# drop NaN column with index values\n",
    "\n",
    "y = temp['target']\n",
    "X = temp.drop('target', axis=1)\n",
    "\n",
    "X_train, X_test, y_train, y_test = train_test_split(X, y, test_size=0.2, random_state=1)"
   ]
  },
  {
   "cell_type": "code",
   "execution_count": 16,
   "metadata": {},
   "outputs": [],
   "source": [
    "\n",
    "y_pred = cross_val_predict(forest, X_test, y_test, method=\"predict_proba\", cv=5)[:, 1]\n",
    "\n",
    "fpr, tpr, thresholds = roc_curve(y_test, y_pred)\n"
   ]
  },
  {
   "cell_type": "code",
   "execution_count": 26,
   "metadata": {},
   "outputs": [
    {
     "data": {
      "image/png": "[encoded data removed]",
      "text/plain": [
       "<Figure size 432x288 with 1 Axes>"
      ]
     },
     "metadata": {},
     "output_type": "display_data"
    },
    {
     "name": "stdout",
     "output_type": "stream",
     "text": [
      "Optimal Threshold:  0.8\n",
      "Coordinate : ( 0.004701995170923879 ,  0.9962985811227637 )\n",
      "AUC score :  0.9998857368997847\n"
     ]
    }
   ],
   "source": [
    "geomean_list = sqrt(tpr * (1-fpr))  # getting geometric mean for tpr and fpr\n",
    "max_index = argmax(geomean_list) # getting the maximum mean index from the list of tpr and fpr coordinates\n",
    "\n",
    "plt.style.use('ggplot')\n",
    "\n",
    "def plot_roc_curve(fpr, tpr, label=None): \n",
    "    plt.scatter(fpr[max_index], tpr[max_index], marker='o', c='navy', label='Optimal Threshold')\n",
    "    # plotting the optimal threshold coordinate as a dot\n",
    "    \n",
    "    plt.plot(fpr, tpr, color='cyan', alpha=0.5, linewidth=8, label=label) \n",
    "    # alpha parameter added for opacity - to show the optimal threshold dot that was hidden beneath it\n",
    "    \n",
    "    plt.plot([0, 1], [0, 1], color='white', lw=2, linestyle='--')\n",
    "    ax1 = fig.add_subplot(111)\n",
    "    plt.axis([0, 1, 0, 1])\n",
    "    plt.title('ROC Curve (1 month, negative boosting, RF)')\n",
    "    plt.xlabel('False Positive Rate')\n",
    "    plt.ylabel('True Positive Rate')\n",
    "    plt.legend()\n",
    "    plt.show()\n",
    "\n",
    "    \n",
    "plot_roc_curve(fpr, tpr)\n",
    "\n",
    "print(\"Optimal Threshold: \", thresholds[max_index])\n",
    "print(\"Coordinate : (\", fpr[max_index],\", \", tpr[max_index], \")\")\n",
    "print(\"AUC score : \", roc_auc_score(y_test ,y_pred))"
   ]
  },
  {
   "cell_type": "code",
   "execution_count": 25,
   "metadata": {},
   "outputs": [
    {
     "data": {
      "text/plain": [
       "0.9998857368997847"
      ]
     },
     "execution_count": 25,
     "metadata": {},
     "output_type": "execute_result"
    }
   ],
   "source": [
    "roc_auc_score(y_test, y_pred)"
   ]
  },
  {
   "cell_type": "code",
   "execution_count": 27,
   "metadata": {
    "scrolled": true
   },
   "outputs": [
    {
     "data": {
      "image/png": "[encoded data removed]",
      "text/plain": [
       "<Figure size 720x432 with 1 Axes>"
      ]
     },
     "metadata": {},
     "output_type": "display_data"
    },
    {
     "name": "stdout",
     "output_type": "stream",
     "text": [
      "Optimal Threshold:  -1\n"
     ]
    }
   ],
   "source": [
    "plt.style.use('ggplot')\n",
    "\n",
    "# Get the 2nd column of the matrix of predicted probabilities for each data point\n",
    "#    The 2nd column stores the probalities of the positive class\n",
    "\n",
    "precisions, recalls, thresholds = precision_recall_curve(y_test, y_pred)\n",
    "\n",
    "fig = plt.figure(figsize=(10, 6))\n",
    "def plot_precision_recall_vs_threshold(precisions, recalls, thresholds): \n",
    "    plt.plot(thresholds, precisions[:-1], \"b--\",  linewidth=8, label=\"Precision\") \n",
    "    plt.plot(thresholds, recalls[:-1], \"g-\",  linewidth=3, label=\"Recall\") \n",
    "    plt.xlabel(\"Threshold\")\n",
    "    plt.legend(loc=\"lower right\")\n",
    "    plt.title('Precision-Recall Curve (1 month, negative boosting, RF)')\n",
    "    plt.ylim([0, 1.1])\n",
    "\n",
    "plot_precision_recall_vs_threshold(precisions, recalls, thresholds)\n",
    "plt.show()\n",
    "\n",
    "\n",
    "threshold_optimal = -1\n",
    "for i in range(len(precisions)):\n",
    "    if(precisions[i] == recalls[i]):\n",
    "        threshold_optimal = thresholds[i]\n",
    "\n",
    "print(\"Optimal Threshold: \", threshold_optimal)"
   ]
  },
  {
   "cell_type": "code",
   "execution_count": 34,
   "metadata": {},
   "outputs": [
    {
     "name": "stdout",
     "output_type": "stream",
     "text": [
      "Test Confusion Matrix:\n",
      "[[7864    5]\n",
      " [   8 1613]]\n"
     ]
    }
   ],
   "source": [
    "forest.fit(X_train, y_train)\n",
    "y_pred = forest.predict(X_test)\n",
    "\n",
    "print(\"Test Confusion Matrix:\")\n",
    "print(confusion_matrix(y_test, y_pred))"
   ]
  },
  {
   "cell_type": "code",
   "execution_count": 35,
   "metadata": {},
   "outputs": [
    {
     "name": "stdout",
     "output_type": "stream",
     "text": [
      "Test Precision = 0.996910\n"
     ]
    }
   ],
   "source": [
    "precision_test = precision_score(y_test, y_pred) \n",
    "print(\"Test Precision = %f\" % precision_test)"
   ]
  },
  {
   "cell_type": "code",
   "execution_count": 36,
   "metadata": {},
   "outputs": [
    {
     "name": "stdout",
     "output_type": "stream",
     "text": [
      "Test Recall = 0.995065\n"
     ]
    }
   ],
   "source": [
    "recall_test = recall_score(y_test, y_pred)\n",
    "print(\"Test Recall = %f\" % recall_test)"
   ]
  },
  {
   "cell_type": "code",
   "execution_count": 37,
   "metadata": {},
   "outputs": [
    {
     "name": "stdout",
     "output_type": "stream",
     "text": [
      "Test F1 Score = 0.995986\n"
     ]
    }
   ],
   "source": [
    "f1_test = f1_score(y_test, y_pred)\n",
    "print(\"Test F1 Score = %f\" % f1_test)"
   ]
  },
  {
   "cell_type": "code",
   "execution_count": null,
   "metadata": {},
   "outputs": [],
   "source": []
  }
 ],
 "metadata": {
  "accelerator": "TPU",
  "colab": {
   "collapsed_sections": [],
   "name": "Getting_Twitter_data.ipynb",
   "provenance": []
  },
  "kernelspec": {
   "display_name": "Python 3 (ipykernel)",
   "language": "python",
   "name": "python3"
  },
  "language_info": {
   "codemirror_mode": {
    "name": "ipython",
    "version": 3
   },
   "file_extension": ".py",
   "mimetype": "text/x-python",
   "name": "python",
   "nbconvert_exporter": "python",
   "pygments_lexer": "ipython3",
   "version": "3.8.3"
  }
 },
 "nbformat": 4,
 "nbformat_minor": 1
}
