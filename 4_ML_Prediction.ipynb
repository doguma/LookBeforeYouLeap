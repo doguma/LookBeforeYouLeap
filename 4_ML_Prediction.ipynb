{
 "cells": [
  {
   "cell_type": "markdown",
   "metadata": {
    "id": "2ws3c9OS89Cn"
   },
   "source": [
    "\n",
    "\n",
    "---\n",
    "\n",
    "\n",
    "# **ML prediction**\n",
    "#### ***Look before you Leap : Leveraging Predictive Models to Improve Automotive Safety and Travel Time***\n",
    "\n",
    "\n",
    "\n",
    "---\n",
    "\n",
    "\n",
    "\n",
    "**Final Project**\n",
    "CSCI 35300/79502   |   Fall 2020 \n",
    "\n",
    "##### Hannah Do\n",
    "\n",
    "\n",
    "\n",
    "\n",
    "\n"
   ]
  },
  {
   "cell_type": "markdown",
   "metadata": {},
   "source": [
    "---\n",
    "\n",
    "### Comparison on datasets with addition of twitter features \n",
    "- importing different files for cross validation and evaluation"
   ]
  },
  {
   "cell_type": "code",
   "execution_count": 19,
   "metadata": {
    "colab": {
     "base_uri": "https://localhost:8080/"
    },
    "executionInfo": {
     "elapsed": 1373,
     "status": "ok",
     "timestamp": 1607165536120,
     "user": {
      "displayName": "Hannah Do",
      "photoUrl": "",
      "userId": "09169567944837111458"
     },
     "user_tz": -540
    },
    "id": "cFyz34eXc8gy",
    "outputId": "46810445-a3f3-450f-a612-74338826634f"
   },
   "outputs": [
    {
     "name": "stdout",
     "output_type": "stream",
     "text": [
      "All Libraries Sucessfully Imported\n"
     ]
    }
   ],
   "source": [
    "# Import all the libraries\n",
    "\n",
    "import pandas as pd\n",
    "import numpy as np\n",
    "import matplotlib.pyplot as plt\n",
    "import seaborn as sns\n",
    "import csv\n",
    "\n",
    "import datetime, string, re\n",
    "import sys, os\n",
    "\n",
    "from sklearn.neighbors import KNeighborsClassifier\n",
    "from sklearn.tree import DecisionTreeClassifier\n",
    "from sklearn.ensemble import RandomForestClassifier\n",
    "from sklearn.linear_model import LogisticRegression\n",
    "from sklearn.svm import SVC\n",
    "from sklearn.naive_bayes import GaussianNB\n",
    "from xgboost import XGBClassifier\n",
    "\n",
    "from imblearn.over_sampling import RandomOverSampler\n",
    "from imblearn.ensemble import BalancedRandomForestClassifier\n",
    "\n",
    "from sklearn.model_selection import train_test_split\n",
    "from sklearn.model_selection import GridSearchCV\n",
    "from sklearn.model_selection import cross_val_score, cross_val_predict\n",
    "from sklearn.feature_selection import SelectFromModel\n",
    "from sklearn.metrics import classification_report\n",
    "from sklearn.metrics import confusion_matrix\n",
    "from sklearn.metrics import accuracy_score\n",
    "from sklearn.metrics import roc_curve, auc, roc_auc_score, precision_recall_curve, confusion_matrix, precision_score, recall_score, f1_score\n",
    "from sklearn.metrics import make_scorer\n",
    "\n",
    "\n",
    "import warnings\n",
    "import numpy as np\n",
    "%matplotlib inline\n",
    "import matplotlib.pyplot as plt\n",
    "\n",
    "from numpy import sqrt, argmax\n",
    "\n",
    "\n",
    "from collections import Counter\n",
    "\n",
    "print('All Libraries Sucessfully Imported')"
   ]
  },
  {
   "cell_type": "markdown",
   "metadata": {},
   "source": [
    "\n",
    "**Different ML models**"
   ]
  },
  {
   "cell_type": "code",
   "execution_count": 20,
   "metadata": {},
   "outputs": [],
   "source": [
    "# Create a function with many machine learning models \n",
    "\n",
    "def models_cross(X,y):\n",
    "\n",
    "    list1 = []\n",
    "\n",
    "    # kNN\n",
    "    knn = KNeighborsClassifier()\n",
    "    knn.fit(X_train, y_train)\n",
    "    y_pred=knn.predict(X_test)\n",
    "\n",
    "    knn_acc=accuracy_score(y_test, y_pred)\n",
    "    list1.append(knn_acc)\n",
    "    print('kNN accuracy score : ', knn_acc)\n",
    "    \n",
    "\n",
    "   # SVC (poly kernel)\n",
    "    svc = SVC(random_state = 4, C= 50, gamma= 'scale', kernel= 'poly')\n",
    "    svc_scores = cross_val_score(svc, X, y, cv=8,n_jobs=-1)\n",
    "#     print('SVC Cross-Validation Accuracy Scores', svc_scores)\n",
    "    svc_scores_series = pd.Series(svc_scores)\n",
    "    list1.append(svc_scores_series.mean())\n",
    "    print('SVC accuracy score : ', svc_scores_series.mean())\n",
    "\n",
    "\n",
    "    # GaussianNB\n",
    "    gauss = GaussianNB()\n",
    "    gauss_scores = cross_val_score(gauss, X, y, cv=8, n_jobs=-1)\n",
    "#     print('GaussianNB Cross-Validation Accuracy Scores', gauss_scores)\n",
    "    gauss_scores_series = pd.Series(gauss_scores)\n",
    "    list1.append(gauss_scores_series.mean())\n",
    "    print('Gaussian NB accuracy score : ', gauss_scores_series.mean())\n",
    "\n",
    "            \n",
    "    # Decision Tree\n",
    "    tree = DecisionTreeClassifier(criterion = 'gini', max_depth='None', max_features='None', min_samples_leaf=2, min_samples_split=3)\n",
    "    tree_scores = cross_val_score(tree, X, y, cv=8,n_jobs=-1)\n",
    "#     print('Decision Tree Cross-Validation Accuracy Scores', tree_scores)\n",
    "    tree_scores_series = pd.Series(tree_scores)\n",
    "    list1.append(tree_scores_series.mean())\n",
    "    print('Decision Tree accuracy score : ', tree_scores_series.mean())\n",
    "\n",
    "\n",
    "    # Random Forest Classifier \n",
    "    forest = RandomForestClassifier(n_estimators=1000, max_features = 'sqrt')\n",
    "    forest_scores = cross_val_score(forest, X, y, cv=8,n_jobs=-1)\n",
    "#     print('Random forest Cross-Validation Accuracy Scores', forest_scores)\n",
    "    forest_scores_series = pd.Series(forest_scores)\n",
    "    list1.append(forest_scores_series.mean())\n",
    "    print('Random Forest accuracy score : ', forest_scores_series.mean())\n",
    "   \n",
    "\n",
    "    # Logistic Regression\n",
    "    # multi_class='ovr', c=0.1, penalty='l2', solver='newton-cg'\n",
    "    log = LogisticRegression()\n",
    "    log_scores = cross_val_score(log, X, y, cv=8,n_jobs=-1)\n",
    "#     print('Logistic regression Cross-Validation Accuracy Scores', log_scores)\n",
    "    log_scores_series = pd.Series(log_scores)\n",
    "    list1.append(log_scores_series.mean())\n",
    "    print('Logistic Regression accuracy score : ', log_scores_series.mean())\n",
    "\n",
    "    \n",
    "    # XGBoost Classifier\n",
    "    xg = XGBClassifier(objective='binary:logistic', learning_rate=0.5, max_depth=5)\n",
    "    xg_scores = cross_val_score(xg, X, y, cv=8,n_jobs=-1)\n",
    "#     print('XGBoost Cross-Validation Accuracy Scores', xg_scores)\n",
    "    xg_scores_series = pd.Series(xg_scores)\n",
    "    list1.append(xg_scores_series.mean())\n",
    "    print('XGBoost accuracy score : ', xg_scores_series.mean())\n",
    "\n",
    "    return list1"
   ]
  },
  {
   "cell_type": "code",
   "execution_count": 233,
   "metadata": {
    "id": "rjPC3qZKc8gz",
    "outputId": "50f28bad-4862-4acb-b58d-40d4b36a6815",
    "scrolled": true
   },
   "outputs": [],
   "source": [
    "final_table = pd.DataFrame()\n",
    "\n",
    "files = ['processed_1mo_smote', 'processed_1mo_realistic', 'processed_3mo_smote', 'processed_3mo_realistic', 'processed_6mo_realistic_short', 'processed_6mo_smote_short']\n",
    "# processed_1mo_smote\n",
    "# processed_1mo_realistic\n",
    "# processed_3mo_smote\n",
    "# ...\n",
    "\n",
    "i = 1\n",
    "    \n",
    "for f in files:\n",
    "\n",
    "    print('\\n' + f)\n",
    "    temp = pd.read_csv(f + '.csv', sep=',')\n",
    "\n",
    "    temp = temp.drop(columns = ['Unnamed: 0'], axis=1)\n",
    "    # drop NaN column with index values\n",
    "\n",
    "    list0 = pd.DataFrame()\n",
    "\n",
    "    y = temp['target']\n",
    "    X = temp.drop('target', axis=1)\n",
    "\n",
    "    X_train, X_test, y_train, y_test = train_test_split(X, y, test_size=0.2, random_state=1)\n",
    "\n",
    "    list0 = models_cross(X,y)\n",
    "\n",
    "    final_table['twitter '+ f + str(i)] = list0\n",
    "    \n",
    "    \n",
    "    print('\\n' + f + ' accident record')\n",
    "\n",
    "    temp = temp.drop(columns = ['distance', 'severity', 'neutral sentiment'], axis=1)\n",
    "\n",
    "    list0 = pd.DataFrame()\n",
    "\n",
    "    y = temp['target']\n",
    "    X = temp.drop('target', axis=1)\n",
    "\n",
    "    X_train, X_test, y_train, y_test = train_test_split(X, y, test_size=0.2, random_state=1)\n",
    "\n",
    "    list0 = models_cross(X,y)\n",
    "\n",
    "    final_table['accident '+ f + str(i)] = list0\n",
    "\n",
    "    i = i+1\n",
    "    \n",
    "final_table\n"
   ]
  },
  {
   "cell_type": "code",
   "execution_count": 45,
   "metadata": {
    "id": "jyyYHwslc8g0",
    "outputId": "a5adf8a5-91ff-4556-cf9d-a18aa782f75b",
    "scrolled": true
   },
   "outputs": [
    {
     "data": {
      "text/html": [
       "<div>\n",
       "<style scoped>\n",
       "    .dataframe tbody tr th:only-of-type {\n",
       "        vertical-align: middle;\n",
       "    }\n",
       "\n",
       "    .dataframe tbody tr th {\n",
       "        vertical-align: top;\n",
       "    }\n",
       "\n",
       "    .dataframe thead th {\n",
       "        text-align: right;\n",
       "    }\n",
       "</style>\n",
       "<table border=\"1\" class=\"dataframe\">\n",
       "  <thead>\n",
       "    <tr style=\"text-align: right;\">\n",
       "      <th></th>\n",
       "      <th>twitter 1</th>\n",
       "      <th>accident 1</th>\n",
       "      <th>twitter 2</th>\n",
       "      <th>accident 2</th>\n",
       "    </tr>\n",
       "  </thead>\n",
       "  <tbody>\n",
       "    <tr>\n",
       "      <th>KNN</th>\n",
       "      <td>0.971667</td>\n",
       "      <td>0.956667</td>\n",
       "      <td>0.9950</td>\n",
       "      <td>0.9025</td>\n",
       "    </tr>\n",
       "    <tr>\n",
       "      <th>SVC</th>\n",
       "      <td>0.941000</td>\n",
       "      <td>0.938667</td>\n",
       "      <td>0.8855</td>\n",
       "      <td>0.8830</td>\n",
       "    </tr>\n",
       "    <tr>\n",
       "      <th>Gaussian NB</th>\n",
       "      <td>0.995000</td>\n",
       "      <td>0.990333</td>\n",
       "      <td>0.9945</td>\n",
       "      <td>0.9780</td>\n",
       "    </tr>\n",
       "    <tr>\n",
       "      <th>Decision Tree</th>\n",
       "      <td>NaN</td>\n",
       "      <td>NaN</td>\n",
       "      <td>NaN</td>\n",
       "      <td>NaN</td>\n",
       "    </tr>\n",
       "    <tr>\n",
       "      <th>Random Forest</th>\n",
       "      <td>0.999667</td>\n",
       "      <td>0.998667</td>\n",
       "      <td>1.0000</td>\n",
       "      <td>0.9990</td>\n",
       "    </tr>\n",
       "    <tr>\n",
       "      <th>Logistic Regression</th>\n",
       "      <td>0.939000</td>\n",
       "      <td>0.833333</td>\n",
       "      <td>0.9635</td>\n",
       "      <td>0.5595</td>\n",
       "    </tr>\n",
       "    <tr>\n",
       "      <th>XGBoost</th>\n",
       "      <td>0.998667</td>\n",
       "      <td>0.998500</td>\n",
       "      <td>0.9985</td>\n",
       "      <td>0.9990</td>\n",
       "    </tr>\n",
       "  </tbody>\n",
       "</table>\n",
       "</div>"
      ],
      "text/plain": [
       "                     twitter 1  accident 1  twitter 2  accident 2\n",
       "KNN                   0.971667    0.956667     0.9950      0.9025\n",
       "SVC                   0.941000    0.938667     0.8855      0.8830\n",
       "Gaussian NB           0.995000    0.990333     0.9945      0.9780\n",
       "Decision Tree              NaN         NaN        NaN         NaN\n",
       "Random Forest         0.999667    0.998667     1.0000      0.9990\n",
       "Logistic Regression   0.939000    0.833333     0.9635      0.5595\n",
       "XGBoost               0.998667    0.998500     0.9985      0.9990"
      ]
     },
     "execution_count": 45,
     "metadata": {},
     "output_type": "execute_result"
    }
   ],
   "source": [
    "ml_models = ['KNN', 'SVC', 'Gaussian NB', 'Decision Tree', 'Random Forest', 'Logistic Regression', 'XGBoost']\n",
    "# 'SVC-rbf', \n",
    "\n",
    "final_table.index = ml_models\n",
    "final_table"
   ]
  },
  {
   "cell_type": "code",
   "execution_count": 40,
   "metadata": {},
   "outputs": [
    {
     "name": "stderr",
     "output_type": "stream",
     "text": [
      "No handles with labels found to put in legend.\n"
     ]
    },
    {
     "data": {
      "image/png": "[encoded data removed]",
      "text/plain": [
       "<Figure size 432x288 with 1 Axes>"
      ]
     },
     "metadata": {},
     "output_type": "display_data"
    }
   ],
   "source": [
    "forest = RandomForestClassifier(n_estimators=10, criterion='entropy', random_state=0)\n",
    "forest.fit(X_train, y_train)\n",
    "# y_pred=forest.predict(X_test)\n",
    "\n",
    "feature_imp = pd.Series(forest.feature_importances_,index=X_train.columns).sort_values(ascending=False)\n",
    "\n",
    "# selected_feat= X.columns[(sel.get_support())]\n",
    "\n",
    "k=10\n",
    "sns.barplot(x=feature_imp[:10], y=feature_imp.index[:k])\n",
    "plt.xlabel('Feature Importance Score')\n",
    "plt.ylabel('Features')\n",
    "plt.title(\"Visualizing Important Features\")\n",
    "plt.legend()\n",
    "plt.show()"
   ]
  },
  {
   "cell_type": "markdown",
   "metadata": {},
   "source": [
    "### Evaluation on Logistic Regression Model\n",
    "1. Dataset with Accidents, Smote method, and boosting Negative Instances - 6 months"
   ]
  },
  {
   "cell_type": "code",
   "execution_count": 222,
   "metadata": {},
   "outputs": [],
   "source": [
    "## select correct files to import\n",
    "\n",
    "# temp = pd.read_csv('processed_3mo_smote.csv', sep=',')\n",
    "# temp = pd.read_csv('processed_3mo_realistic.csv', sep=',')\n",
    "# temp = pd.read_csv('preprocessed_6mo.csv', sep=',')\n",
    "temp = pd.read_csv('processed_6mo_realistic.csv', sep=',')\n",
    "\n",
    "temp = temp.drop(columns = ['Unnamed: 0'], axis=1)\n",
    "# drop NaN column with index values\n",
    "\n",
    "## select whether to drop any features - \"to get dataset with no twitter features\"\n",
    "\n",
    "# temp = temp.drop(columns = ['distance', 'severity', 'polar sentiment', 'neutral sentiment'], axis=1)\n",
    "# temp = temp.drop(columns = ['distance', 'severity', 'neutral sentiment'], axis=1)\n",
    "\n",
    "y = temp['target']\n",
    "X = temp.drop('target', axis=1)\n",
    "\n",
    "X_train, X_test, y_train, y_test = train_test_split(X, y, test_size=0.2, random_state=1)\n",
    "\n"
   ]
  },
  {
   "cell_type": "code",
   "execution_count": 223,
   "metadata": {},
   "outputs": [
    {
     "name": "stdout",
     "output_type": "stream",
     "text": [
      "\n",
      "FPR FPR & TPR for Various Threshold Values:\n",
      "FPR:  [0.         0.         0.         ... 0.18032771 1.         1.        ]\n",
      "TPR:  [0.00000000e+00 4.91159136e-05 9.82318271e-05 ... 9.99950884e-01\n",
      " 9.99950884e-01 1.00000000e+00]\n",
      "\n",
      "Thresholds:  [1.92710226e+00 9.27102259e-01 9.23400974e-01 ... 1.47623489e-02\n",
      " 2.94472582e-14 2.94354393e-14]\n"
     ]
    }
   ],
   "source": [
    "\n",
    "log = LogisticRegression()\n",
    "log.fit(X_train, y_train)\n",
    "y_pred=log.predict(X_test)\n",
    "\n",
    "y_scores = cross_val_predict(log, X_train, y_train, method=\"predict_proba\", cv=5)[:, 1]\n",
    "\n",
    "fpr, tpr, thresholds = roc_curve(y_train, y_scores)\n",
    "\n",
    "print(\"\\nFPR FPR & TPR for Various Threshold Values:\")\n",
    "\n",
    "print(\"FPR: \", fpr)\n",
    "print(\"TPR: \", tpr)\n",
    "print(\"\\nThresholds: \", thresholds)\n"
   ]
  },
  {
   "cell_type": "code",
   "execution_count": 231,
   "metadata": {},
   "outputs": [
    {
     "name": "stderr",
     "output_type": "stream",
     "text": [
      "<ipython-input-231-743cd72bb79f>:15: MatplotlibDeprecationWarning: Adding an axes using the same arguments as a previous axes currently reuses the earlier instance.  In a future version, a new instance will always be created and returned.  Meanwhile, this warning can be suppressed, and the future behavior ensured, by passing a unique label to each axes instance.\n",
      "  ax1 = fig.add_subplot(111)\n"
     ]
    },
    {
     "data": {
      "image/png": "[encoded data removed]",
      "text/plain": [
       "<Figure size 720x432 with 1 Axes>"
      ]
     },
     "metadata": {},
     "output_type": "display_data"
    },
    {
     "name": "stdout",
     "output_type": "stream",
     "text": [
      "Optimal Threshold:  2.551894424680853e-12\n",
      "Coordinate : ( 0.1009098510790794 ,  0.9806483300589391 )\n",
      "AUC score :  0.9678941111048355\n"
     ]
    }
   ],
   "source": [
    "geomean_list = sqrt(tpr * (1-fpr))  # getting geometric mean for tpr and fpr\n",
    "max_index = argmax(geomean_list) # getting the maximum mean index from the list of tpr and fpr coordinates\n",
    "\n",
    "plt.style.use('ggplot')\n",
    "\n",
    "fig = plt.figure(figsize=(10, 6))\n",
    "def plot_roc_curve(fpr, tpr, label=None): \n",
    "    plt.scatter(fpr[max_index], tpr[max_index], marker='o', c='navy', label='Optimal Threshold')\n",
    "    # plotting the optimal threshold coordinate as a dot\n",
    "    \n",
    "    plt.plot(fpr, tpr, color='cyan', alpha=0.5, linewidth=8, label=label) \n",
    "    # alpha parameter added for opacity - to show the optimal threshold dot that was hidden beneath it\n",
    "    \n",
    "    plt.plot([0, 1], [0, 1], color='white', lw=2, linestyle='--')\n",
    "    ax1 = fig.add_subplot(111)\n",
    "    plt.axis([0, 1, 0, 1])\n",
    "    plt.title('ROC Curve (6 month, negative boosting, LR)')\n",
    "    plt.xlabel('False Positive Rate')\n",
    "    plt.ylabel('True Positive Rate')\n",
    "    plt.legend()\n",
    "    plt.show()\n",
    "\n",
    "    \n",
    "plot_roc_curve(fpr, tpr)\n",
    "\n",
    "print(\"Optimal Threshold: \", thresholds[max_index])\n",
    "print(\"Coordinate : (\", fpr[max_index],\", \", tpr[max_index], \")\")\n",
    "print(\"AUC score : \", roc_auc_score(y_train,y_scores))"
   ]
  },
  {
   "cell_type": "code",
   "execution_count": 225,
   "metadata": {},
   "outputs": [
    {
     "data": {
      "text/plain": [
       "0.9678941111048355"
      ]
     },
     "execution_count": 225,
     "metadata": {},
     "output_type": "execute_result"
    }
   ],
   "source": [
    "roc_auc_score(y_train,y_scores)"
   ]
  },
  {
   "cell_type": "code",
   "execution_count": 232,
   "metadata": {
    "scrolled": true
   },
   "outputs": [
    {
     "data": {
      "image/png": "[encoded data removed]",
      "text/plain": [
       "<Figure size 720x432 with 1 Axes>"
      ]
     },
     "metadata": {},
     "output_type": "display_data"
    },
    {
     "name": "stdout",
     "output_type": "stream",
     "text": [
      "Optimal Threshold:  0.6032049839601829\n"
     ]
    }
   ],
   "source": [
    "plt.style.use('ggplot')\n",
    "\n",
    "# Get the 2nd column of the matrix of predicted probabilities for each data point\n",
    "#    The 2nd column stores the probalities of the positive class\n",
    "\n",
    "precisions, recalls, thresholds = precision_recall_curve(y_train, y_scores)\n",
    "\n",
    "fig = plt.figure(figsize=(10, 6))\n",
    "def plot_precision_recall_vs_threshold(precisions, recalls, thresholds): \n",
    "    plt.plot(thresholds, precisions[:-1], \"b--\",  linewidth=8, label=\"Precision\") \n",
    "    plt.plot(thresholds, recalls[:-1], \"g-\",  linewidth=3, label=\"Recall\") \n",
    "    plt.xlabel(\"Threshold\")\n",
    "    plt.legend(loc=\"lower right\")\n",
    "    plt.title('Precision-Recall Curve (6 month, negative boosting, LR)')\n",
    "    plt.ylim([0, 1.1])\n",
    "\n",
    "plot_precision_recall_vs_threshold(precisions, recalls, thresholds)\n",
    "plt.show()\n",
    "\n",
    "\n",
    "threshold_optimal = -1\n",
    "for i in range(len(precisions)):\n",
    "    if(precisions[i] == recalls[i]):\n",
    "        threshold_optimal = thresholds[i]\n",
    "\n",
    "print(\"Optimal Threshold: \", threshold_optimal)"
   ]
  },
  {
   "cell_type": "code",
   "execution_count": 227,
   "metadata": {},
   "outputs": [
    {
     "name": "stdout",
     "output_type": "stream",
     "text": [
      "\n",
      "Test Confusion Matrix:\n",
      "[[23604  1450]\n",
      " [  758  4392]]\n"
     ]
    }
   ],
   "source": [
    "log.fit(X_train, y_train)\n",
    "y_test_predicted = log.predict(X_test)\n",
    "\n",
    "\n",
    "print(\"\\nTest Confusion Matrix:\")\n",
    "print(confusion_matrix(y_test, y_test_predicted))"
   ]
  },
  {
   "cell_type": "code",
   "execution_count": 228,
   "metadata": {},
   "outputs": [
    {
     "name": "stdout",
     "output_type": "stream",
     "text": [
      "\n",
      "Test Precision = 0.751797\n"
     ]
    }
   ],
   "source": [
    "precision_test = precision_score(y_test, y_test_predicted) \n",
    "print(\"\\nTest Precision = %f\" % precision_test)"
   ]
  },
  {
   "cell_type": "code",
   "execution_count": 229,
   "metadata": {},
   "outputs": [
    {
     "name": "stdout",
     "output_type": "stream",
     "text": [
      "\n",
      "Test Recall = 0.852816\n"
     ]
    }
   ],
   "source": [
    "recall_test = recall_score(y_test, y_test_predicted)\n",
    "print(\"\\nTest Recall = %f\" % recall_test)"
   ]
  },
  {
   "cell_type": "code",
   "execution_count": 230,
   "metadata": {},
   "outputs": [
    {
     "name": "stdout",
     "output_type": "stream",
     "text": [
      "\n",
      "Test F1 Score = 0.799127\n"
     ]
    }
   ],
   "source": [
    "f1_test = f1_score(y_test, y_test_predicted)\n",
    "print(\"\\nTest F1 Score = %f\" % f1_test)"
   ]
  },
  {
   "cell_type": "code",
   "execution_count": null,
   "metadata": {},
   "outputs": [],
   "source": []
  }
 ],
 "metadata": {
  "accelerator": "TPU",
  "colab": {
   "collapsed_sections": [],
   "name": "Getting_Twitter_data.ipynb",
   "provenance": []
  },
  "kernelspec": {
   "display_name": "Python 3",
   "language": "python",
   "name": "python3"
  },
  "language_info": {
   "codemirror_mode": {
    "name": "ipython",
    "version": 3
   },
   "file_extension": ".py",
   "mimetype": "text/x-python",
   "name": "python",
   "nbconvert_exporter": "python",
   "pygments_lexer": "ipython3",
   "version": "3.8.3"
  }
 },
 "nbformat": 4,
 "nbformat_minor": 1
}
